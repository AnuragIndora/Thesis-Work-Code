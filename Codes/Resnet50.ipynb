{
 "cells": [
  {
   "cell_type": "code",
   "execution_count": 118,
   "id": "e88a9a8c3f229dc7",
   "metadata": {
    "ExecuteTime": {
     "end_time": "2025-04-25T12:10:35.812673Z",
     "start_time": "2025-04-25T12:10:30.166056Z"
    }
   },
   "outputs": [],
   "source": [
    "import os\n",
    "import numpy as np\n",
    "import matplotlib.pyplot as plt\n",
    "import seaborn as sns\n",
    "import torch\n",
    "import torch.nn as nn\n",
    "import torch.nn.functional as F\n",
    "import torch.optim as optim\n",
    "from torch.utils.data import DataLoader\n",
    "from torchvision import models, transforms\n",
    "from torchvision.datasets import ImageFolder\n",
    "from tqdm import tqdm\n",
    "from sklearn.metrics import confusion_matrix, accuracy_score, classification_report"
   ]
  },
  {
   "cell_type": "code",
   "execution_count": 119,
   "id": "ccd6e9fc61a47f68",
   "metadata": {
    "ExecuteTime": {
     "end_time": "2025-04-25T12:10:35.860283Z",
     "start_time": "2025-04-25T12:10:35.818084Z"
    }
   },
   "outputs": [],
   "source": [
    "# Set seeds for reproducibility\n",
    "torch.manual_seed(42)\n",
    "np.random.seed(42)\n",
    "if torch.cuda.is_available():\n",
    "    torch.cuda.manual_seed_all(42)\n"
   ]
  },
  {
   "cell_type": "code",
   "execution_count": 120,
   "id": "e3fbece3ee5e412b",
   "metadata": {
    "ExecuteTime": {
     "end_time": "2025-04-25T12:10:36.425611Z",
     "start_time": "2025-04-25T12:10:36.420136Z"
    }
   },
   "outputs": [
    {
     "name": "stdout",
     "output_type": "stream",
     "text": [
      "['Test', 'Train']\n",
      "['Angry', 'Disgust', 'Fear', 'Happiness', 'Neutral', 'Sad', 'Surprised']\n"
     ]
    }
   ],
   "source": [
    "# Dataset paths\n",
    "# dataset = 'TIF_DF'\n",
    "dataset = 'ChildNet'\n",
    "print(os.listdir(dataset))\n",
    "\n",
    "classes = os.listdir(dataset + \"/Train\")\n",
    "print(classes)\n",
    "\n",
    "data_dir = dataset\n",
    "train_dir = data_dir + '/Train'\n",
    "test_dir = data_dir + '/Test'"
   ]
  },
  {
   "cell_type": "code",
   "execution_count": 121,
   "id": "bc70ee4db1d4baa5",
   "metadata": {
    "ExecuteTime": {
     "end_time": "2025-04-25T12:10:36.475027Z",
     "start_time": "2025-04-25T12:10:36.468133Z"
    }
   },
   "outputs": [
    {
     "name": "stdout",
     "output_type": "stream",
     "text": [
      "Training Set: Angry = 42\n",
      "Testing Set: Angry = 11\n",
      "--------------------\n",
      "Training Set: Disgust = 34\n",
      "Testing Set: Disgust = 9\n",
      "--------------------\n",
      "Training Set: Fear = 26\n",
      "Testing Set: Fear = 7\n",
      "--------------------\n",
      "Training Set: Happiness = 78\n",
      "Testing Set: Happiness = 20\n",
      "--------------------\n",
      "Training Set: Neutral = 43\n",
      "Testing Set: Neutral = 11\n",
      "--------------------\n",
      "Training Set: Sad = 56\n",
      "Testing Set: Sad = 14\n",
      "--------------------\n",
      "Training Set: Surprised = 72\n",
      "Testing Set: Surprised = 19\n",
      "--------------------\n"
     ]
    }
   ],
   "source": [
    "# Print class distribution\n",
    "count = []\n",
    "for folder in classes:\n",
    "    num_images_train = len(os.listdir(train_dir + '/' + folder))\n",
    "    num_images_test = len(os.listdir(test_dir + '/' + folder))\n",
    "    count.append(num_images_train)\n",
    "    print(f'Training Set: {folder} = {num_images_train}')\n",
    "    print(f'Testing Set: {folder} = {num_images_test}')\n",
    "    print(\"--\" * 10)"
   ]
  },
  {
   "cell_type": "code",
   "execution_count": 122,
   "id": "c16ddbf23d6b8f15",
   "metadata": {
    "ExecuteTime": {
     "end_time": "2025-04-25T12:10:41.082552Z",
     "start_time": "2025-04-25T12:10:41.077186Z"
    }
   },
   "outputs": [],
   "source": [
    "# Define device (GPU or CPU)\n",
    "def get_default_device():\n",
    "    \"\"\"Pick GPU if available, else CPU\"\"\"\n",
    "    if torch.cuda.is_available():\n",
    "        return torch.device('cuda')\n",
    "    else:\n",
    "        return torch.device('cpu')"
   ]
  },
  {
   "cell_type": "code",
   "execution_count": 123,
   "id": "75101b112c43acf7",
   "metadata": {
    "ExecuteTime": {
     "end_time": "2025-04-25T12:10:42.052700Z",
     "start_time": "2025-04-25T12:10:42.046080Z"
    }
   },
   "outputs": [
    {
     "data": {
      "text/plain": [
       "device(type='cuda')"
      ]
     },
     "execution_count": 123,
     "metadata": {},
     "output_type": "execute_result"
    }
   ],
   "source": [
    "get_default_device()"
   ]
  },
  {
   "cell_type": "code",
   "execution_count": 124,
   "id": "1311e4f259a172",
   "metadata": {
    "ExecuteTime": {
     "end_time": "2025-04-25T12:10:42.637756Z",
     "start_time": "2025-04-25T12:10:42.632796Z"
    }
   },
   "outputs": [],
   "source": [
    "def to_device(data, device):\n",
    "    \"\"\"Move tensor(s) to chosen device\"\"\"\n",
    "    if isinstance(data, (list, tuple)):\n",
    "        return [to_device(x, device) for x in data]\n",
    "    return data.to(device, non_blocking=True)"
   ]
  },
  {
   "cell_type": "code",
   "execution_count": 125,
   "id": "39b3ec05170a924d",
   "metadata": {
    "ExecuteTime": {
     "end_time": "2025-04-25T12:10:43.328863Z",
     "start_time": "2025-04-25T12:10:43.325050Z"
    }
   },
   "outputs": [],
   "source": [
    "class DeviceDataLoader():\n",
    "    \"\"\"Wrap a dataloader to move data to a device\"\"\"\n",
    "\n",
    "    def __init__(self, dl, device):\n",
    "        self.dl = dl\n",
    "        self.device = device\n",
    "\n",
    "    def __iter__(self):\n",
    "        \"\"\"Yield a batch of data after moving it to device\"\"\"\n",
    "        for b in self.dl:\n",
    "            yield to_device(b, self.device)\n",
    "\n",
    "    def __len__(self):\n",
    "        \"\"\"Number of batches\"\"\"\n",
    "        return len(self.dl)"
   ]
  },
  {
   "cell_type": "code",
   "execution_count": 126,
   "id": "fd30072bf814be1",
   "metadata": {
    "ExecuteTime": {
     "end_time": "2025-04-25T12:10:43.802952Z",
     "start_time": "2025-04-25T12:10:43.799319Z"
    }
   },
   "outputs": [
    {
     "name": "stdout",
     "output_type": "stream",
     "text": [
      "Using device: cuda\n"
     ]
    }
   ],
   "source": [
    "device = get_default_device()\n",
    "print(f\"Using device: {device}\")"
   ]
  },
  {
   "cell_type": "code",
   "execution_count": 127,
   "id": "f3280978da2d011c",
   "metadata": {
    "ExecuteTime": {
     "end_time": "2025-04-25T12:10:44.601928Z",
     "start_time": "2025-04-25T12:10:44.597732Z"
    }
   },
   "outputs": [],
   "source": [
    "# Image transformations with data augmentation\n",
    "stats = ((0.485, 0.456, 0.406), (0.229, 0.224, 0.225))  # ImageNet stats for normalization"
   ]
  },
  {
   "cell_type": "code",
   "execution_count": 128,
   "id": "bd2ac20e5968b912",
   "metadata": {
    "ExecuteTime": {
     "end_time": "2025-04-25T12:10:45.371822Z",
     "start_time": "2025-04-25T12:10:45.368127Z"
    }
   },
   "outputs": [],
   "source": [
    "train_transforms = transforms.Compose([\n",
    "    transforms.Resize((64, 64)),\n",
    "    transforms.RandomCrop(64, padding=4, padding_mode='reflect'),\n",
    "    transforms.RandomHorizontalFlip(),\n",
    "    transforms.RandomRotation(15),\n",
    "    transforms.ColorJitter(brightness=0.1, contrast=0.1, saturation=0.1, hue=0.1),\n",
    "    transforms.ToTensor(),\n",
    "    transforms.Normalize(*stats)\n",
    "])"
   ]
  },
  {
   "cell_type": "code",
   "execution_count": 129,
   "id": "c15baba017ffd689",
   "metadata": {
    "ExecuteTime": {
     "end_time": "2025-04-25T12:10:45.882356Z",
     "start_time": "2025-04-25T12:10:45.878177Z"
    }
   },
   "outputs": [],
   "source": [
    "test_transforms = transforms.Compose([\n",
    "    transforms.Resize((64, 64)),\n",
    "    transforms.ToTensor(),\n",
    "    transforms.Normalize(*stats)\n",
    "])"
   ]
  },
  {
   "cell_type": "code",
   "execution_count": 130,
   "id": "e94024ce1441530f",
   "metadata": {
    "ExecuteTime": {
     "end_time": "2025-04-25T12:10:46.405405Z",
     "start_time": "2025-04-25T12:10:46.397531Z"
    }
   },
   "outputs": [],
   "source": [
    "# Load datasets\n",
    "train_ds = ImageFolder(train_dir, train_transforms)\n",
    "test_ds = ImageFolder(test_dir, test_transforms)"
   ]
  },
  {
   "cell_type": "code",
   "execution_count": 131,
   "id": "b374010fc41398b9",
   "metadata": {
    "ExecuteTime": {
     "end_time": "2025-04-25T12:10:47.191322Z",
     "start_time": "2025-04-25T12:10:47.184265Z"
    }
   },
   "outputs": [
    {
     "data": {
      "text/plain": [
       "Dataset ImageFolder\n",
       "    Number of datapoints: 351\n",
       "    Root location: ChildNet/Train\n",
       "    StandardTransform\n",
       "Transform: Compose(\n",
       "               Resize(size=(64, 64), interpolation=bilinear, max_size=None, antialias=True)\n",
       "               RandomCrop(size=(64, 64), padding=4)\n",
       "               RandomHorizontalFlip(p=0.5)\n",
       "               RandomRotation(degrees=[-15.0, 15.0], interpolation=nearest, expand=False, fill=0)\n",
       "               ColorJitter(brightness=(0.9, 1.1), contrast=(0.9, 1.1), saturation=(0.9, 1.1), hue=(-0.1, 0.1))\n",
       "               ToTensor()\n",
       "               Normalize(mean=(0.485, 0.456, 0.406), std=(0.229, 0.224, 0.225))\n",
       "           )"
      ]
     },
     "execution_count": 131,
     "metadata": {},
     "output_type": "execute_result"
    }
   ],
   "source": [
    "train_ds"
   ]
  },
  {
   "cell_type": "code",
   "execution_count": 132,
   "id": "8694501257b4de3",
   "metadata": {
    "ExecuteTime": {
     "end_time": "2025-04-25T12:10:48.281718Z",
     "start_time": "2025-04-25T12:10:48.277684Z"
    }
   },
   "outputs": [],
   "source": [
    "# Create data loaders\n",
    "batch_size = 128\n",
    "train_dl = DataLoader(train_ds, batch_size, shuffle=True, num_workers=4, pin_memory=True)\n",
    "test_dl = DataLoader(test_ds, batch_size * 2, num_workers=4, pin_memory=True)"
   ]
  },
  {
   "cell_type": "code",
   "execution_count": 133,
   "id": "9ae40bd998a0237d",
   "metadata": {
    "ExecuteTime": {
     "end_time": "2025-04-25T12:10:54.469393Z",
     "start_time": "2025-04-25T12:10:49.008655Z"
    }
   },
   "outputs": [
    {
     "data": {
      "text/plain": [
       "[tensor([[[[-2.0152, -2.0152, -0.6109,  ..., -2.0152, -2.0152, -2.0152],\n",
       "           [-2.0152, -2.0152, -0.8164,  ..., -2.0152, -2.0152, -2.0152],\n",
       "           [-2.0152, -2.0152, -0.5253,  ...,  0.2453,  0.2967,  0.2967],\n",
       "           ...,\n",
       "           [ 1.9235,  1.8893,  1.9235,  ...,  1.8208, -2.0152, -2.0152],\n",
       "           [-2.0152, -2.0152, -2.0152,  ...,  1.8893, -2.0152, -2.0152],\n",
       "           [-2.0152, -2.0152, -2.0152,  ...,  1.8379, -2.0152, -2.0152]],\n",
       " \n",
       "          [[-1.9307, -1.9307, -1.4230,  ..., -1.9307, -1.9307, -1.9307],\n",
       "           [-1.9307, -1.9307, -1.6506,  ..., -1.9307, -1.9307, -1.9307],\n",
       "           [-1.9307, -1.9307, -1.3880,  ..., -0.7927, -0.7227, -0.7227],\n",
       "           ...,\n",
       "           [ 2.0784,  2.0959,  2.0784,  ...,  2.0084, -1.9307, -1.9307],\n",
       "           [-1.9307, -1.9307, -1.9307,  ...,  2.0434, -1.9307, -1.9307],\n",
       "           [-1.9307, -1.9307, -1.9307,  ...,  1.9734, -1.9307, -1.9307]],\n",
       " \n",
       "          [[-1.6999, -1.6999, -1.3687,  ..., -1.6999, -1.6999, -1.6999],\n",
       "           [-1.6999, -1.6999, -1.5779,  ..., -1.6999, -1.6999, -1.6999],\n",
       "           [-1.6999, -1.6999, -1.2990,  ..., -0.7761, -0.7238, -0.7238],\n",
       "           ...,\n",
       "           [ 2.3088,  2.3088,  2.3088,  ...,  2.1346, -1.6999, -1.6999],\n",
       "           [-1.6999, -1.6999, -1.6999,  ...,  2.1868, -1.6999, -1.6999],\n",
       "           [-1.6999, -1.6999, -1.6999,  ...,  2.1520, -1.6999, -1.6999]]],\n",
       " \n",
       " \n",
       "         [[[-1.9124, -1.9124, -1.5185,  ..., -1.9124, -1.9124, -1.9124],\n",
       "           [-1.9124, -1.9124, -1.4672,  ..., -1.9124, -1.9124, -1.9124],\n",
       "           [-1.9124, -1.9124, -1.3815,  ...,  0.0912, -0.4739, -0.7137],\n",
       "           ...,\n",
       "           [-0.5938, -1.0390, -1.2788,  ..., -1.2788, -1.9124, -1.9124],\n",
       "           [-1.9124, -1.9124, -1.9124,  ..., -1.0390, -1.9124, -1.9124],\n",
       "           [-1.9124, -1.9124, -1.9124,  ..., -0.9363, -1.9124, -1.9124]],\n",
       " \n",
       "          [[-1.8256, -1.8256, -1.4755,  ..., -1.8256, -1.8256, -1.8256],\n",
       "           [-1.8256, -1.8256, -1.4230,  ..., -1.8256, -1.8256, -1.8256],\n",
       "           [-1.8256, -1.8256, -1.3354,  ..., -0.2850, -0.8277, -1.0203],\n",
       "           ...,\n",
       "           [-0.3025, -0.7752, -1.0378,  ..., -1.1429, -1.8256, -1.8256],\n",
       "           [-1.8256, -1.8256, -1.8256,  ..., -0.8978, -1.8256, -1.8256],\n",
       "           [-1.8256, -1.8256, -1.8256,  ..., -0.8102, -1.8256, -1.8256]],\n",
       " \n",
       "          [[-1.5953, -1.5953, -1.3513,  ..., -1.5953, -1.5953, -1.5953],\n",
       "           [-1.5953, -1.5953, -1.2816,  ..., -1.5953, -1.5953, -1.5953],\n",
       "           [-1.5953, -1.5953, -1.1944,  ..., -0.6018, -1.0898, -1.2816],\n",
       "           ...,\n",
       "           [ 0.2696, -0.1835, -0.4275,  ..., -0.9330, -1.5953, -1.5953],\n",
       "           [-1.5953, -1.5953, -1.5953,  ..., -0.6193, -1.5953, -1.5953],\n",
       "           [-1.5953, -1.5953, -1.5953,  ..., -0.5147, -1.5953, -1.5953]]],\n",
       " \n",
       " \n",
       "         [[[-2.1179, -2.1179, -2.1179,  ..., -2.1179, -2.1179, -2.1179],\n",
       "           [-2.1179, -2.1179, -2.1179,  ..., -2.1179, -2.1179, -2.1179],\n",
       "           [-2.1179, -2.1179, -2.1179,  ..., -2.1179, -2.1179, -2.1179],\n",
       "           ...,\n",
       "           [-2.1179, -2.1179, -2.1179,  ..., -2.1179, -2.1179, -2.1179],\n",
       "           [-2.1179, -2.1179, -2.1179,  ..., -2.1179, -2.1179, -2.1179],\n",
       "           [-2.1179, -2.1179, -2.1179,  ..., -2.1179, -2.1179, -2.1179]],\n",
       " \n",
       "          [[-2.0357, -2.0357, -2.0357,  ..., -2.0357, -2.0357, -2.0357],\n",
       "           [-2.0357, -2.0357, -2.0357,  ..., -2.0357, -2.0357, -2.0357],\n",
       "           [-2.0357, -2.0357, -2.0357,  ..., -2.0357, -2.0357, -2.0357],\n",
       "           ...,\n",
       "           [-2.0357, -2.0357, -2.0357,  ..., -2.0357, -2.0357, -2.0357],\n",
       "           [-2.0357, -2.0357, -2.0357,  ..., -2.0357, -2.0357, -2.0357],\n",
       "           [-2.0357, -2.0357, -2.0357,  ..., -2.0357, -2.0357, -2.0357]],\n",
       " \n",
       "          [[-1.8044, -1.8044, -1.8044,  ..., -1.8044, -1.8044, -1.8044],\n",
       "           [-1.8044, -1.8044, -1.8044,  ..., -1.8044, -1.8044, -1.8044],\n",
       "           [-1.8044, -1.8044, -1.8044,  ..., -1.8044, -1.8044, -1.8044],\n",
       "           ...,\n",
       "           [-1.8044, -1.8044, -1.8044,  ..., -1.8044, -1.8044, -1.8044],\n",
       "           [-1.8044, -1.8044, -1.8044,  ..., -1.8044, -1.8044, -1.8044],\n",
       "           [-1.8044, -1.8044, -1.8044,  ..., -1.8044, -1.8044, -1.8044]]],\n",
       " \n",
       " \n",
       "         ...,\n",
       " \n",
       " \n",
       "         [[[-1.9638, -1.9638, -1.9638,  ..., -1.9638, -1.9638, -1.9638],\n",
       "           [-1.9638, -1.9638, -1.9638,  ..., -1.9638, -1.9638, -1.9638],\n",
       "           [-1.9638, -1.9638, -1.9638,  ..., -1.9638, -1.9638, -1.9638],\n",
       "           ...,\n",
       "           [-1.9638, -1.9638, -1.9638,  ..., -1.9638, -1.9638, -1.9638],\n",
       "           [-1.9638, -1.9638, -1.9638,  ..., -1.9638, -1.9638, -1.9638],\n",
       "           [-1.9638, -1.9638, -1.9638,  ..., -1.9638, -1.9638, -1.9638]],\n",
       " \n",
       "          [[-1.8782, -1.8782, -1.8782,  ..., -1.8782, -1.8782, -1.8782],\n",
       "           [-1.8782, -1.8782, -1.8782,  ..., -1.8782, -1.8782, -1.8782],\n",
       "           [-1.8782, -1.8782, -1.8782,  ..., -1.8782, -1.8782, -1.8782],\n",
       "           ...,\n",
       "           [-1.8782, -1.8782, -1.8782,  ..., -1.8782, -1.8782, -1.8782],\n",
       "           [-1.8782, -1.8782, -1.8782,  ..., -1.8782, -1.8782, -1.8782],\n",
       "           [-1.8782, -1.8782, -1.8782,  ..., -1.8782, -1.8782, -1.8782]],\n",
       " \n",
       "          [[-1.6476, -1.6476, -1.6476,  ..., -1.6476, -1.6476, -1.6476],\n",
       "           [-1.6476, -1.6476, -1.6476,  ..., -1.6476, -1.6476, -1.6476],\n",
       "           [-1.6476, -1.6476, -1.6476,  ..., -1.6476, -1.6476, -1.6476],\n",
       "           ...,\n",
       "           [-1.6476, -1.6476, -1.6476,  ..., -1.6476, -1.6476, -1.6476],\n",
       "           [-1.6476, -1.6476, -1.6476,  ..., -1.6476, -1.6476, -1.6476],\n",
       "           [-1.6476, -1.6476, -1.6476,  ..., -1.6476, -1.6476, -1.6476]]],\n",
       " \n",
       " \n",
       "         [[[-2.0323, -2.0323, -2.0323,  ...,  1.9064, -2.0323, -2.0323],\n",
       "           [-2.0323, -2.0323, -2.0323,  ...,  1.9064, -2.0323, -2.0323],\n",
       "           [-1.6898, -1.7412, -1.3302,  ...,  1.9235, -2.0323, -2.0323],\n",
       "           ...,\n",
       "           [-2.0323, -2.0323,  1.4783,  ...,  1.9064,  1.9064,  1.9064],\n",
       "           [-2.0323, -2.0323,  1.3242,  ..., -2.0323, -2.0323, -2.0323],\n",
       "           [-2.0323, -2.0323,  1.5639,  ..., -2.0323, -2.0323, -2.0323]],\n",
       " \n",
       "          [[-1.9482, -1.9482, -1.9482,  ...,  2.2710, -1.9482, -1.9482],\n",
       "           [-1.9482, -1.9482, -1.9482,  ...,  2.2885, -1.9482, -1.9482],\n",
       "           [-1.8256, -1.8782, -1.5105,  ...,  2.3060, -1.9482, -1.9482],\n",
       "           ...,\n",
       "           [-1.9482, -1.9482,  0.0126,  ...,  2.2710,  2.2710,  2.2710],\n",
       "           [-1.9482, -1.9482, -0.3375,  ..., -1.9482, -1.9482, -1.9482],\n",
       "           [-1.9482, -1.9482, -0.2150,  ..., -1.9482, -1.9482, -1.9482]],\n",
       " \n",
       "          [[-1.7173, -1.7173, -1.7173,  ...,  0.1825, -1.7173, -1.7173],\n",
       "           [-1.7173, -1.7173, -1.7173,  ...,  0.1302, -1.7173, -1.7173],\n",
       "           [-1.6127, -1.6650, -1.2816,  ...,  0.0605, -1.7173, -1.7173],\n",
       "           ...,\n",
       "           [-1.7173, -1.7173, -0.1835,  ...,  0.0431,  0.0431,  0.0431],\n",
       "           [-1.7173, -1.7173, -0.4101,  ..., -1.7173, -1.7173, -1.7173],\n",
       "           [-1.7173, -1.7173, -0.1835,  ..., -1.7173, -1.7173, -1.7173]]],\n",
       " \n",
       " \n",
       "         [[[-2.1179,  1.2214,  0.8618,  ..., -2.1179, -2.1179, -2.1179],\n",
       "           [-2.1179,  1.0502,  0.2453,  ...,  1.9407,  1.8893,  1.9749],\n",
       "           [-2.1179,  0.4679, -0.4911,  ...,  1.9407,  1.9064,  1.9920],\n",
       "           ...,\n",
       "           [ 2.2147,  2.1975,  2.2147,  ...,  1.7865,  1.7523, -2.1179],\n",
       "           [ 2.2147,  2.1119,  2.2147,  ...,  1.7523,  1.7352, -2.1179],\n",
       "           [-2.1179, -2.1179, -2.1179,  ...,  1.7523,  1.7352, -2.1179]],\n",
       " \n",
       "          [[-2.0357,  1.4307,  1.0980,  ..., -2.0357, -2.0357, -2.0357],\n",
       "           [-2.0357,  1.2556,  0.4678,  ...,  2.1485,  2.0959,  2.1660],\n",
       "           [-2.0357,  0.6254, -0.3550,  ...,  2.1660,  2.0959,  2.1835],\n",
       "           ...,\n",
       "           [ 2.4286,  2.4286,  2.4286,  ...,  1.9734,  1.9559, -2.0357],\n",
       "           [ 2.4286,  2.3761,  2.4286,  ...,  1.9384,  1.9384, -2.0357],\n",
       "           [-2.0357, -2.0357, -2.0357,  ...,  1.9384,  1.9384, -2.0357]],\n",
       " \n",
       "          [[-1.8044,  0.1128, -0.2010,  ..., -1.8044, -1.8044, -1.8044],\n",
       "           [-1.8044,  0.0082, -0.7761,  ...,  2.2217,  2.2217,  2.2914],\n",
       "           [-1.8044, -0.5844, -1.5430,  ...,  2.2740,  2.2391,  2.3088],\n",
       "           ...,\n",
       "           [ 2.4308,  2.5180,  2.4308,  ...,  2.1171,  2.0823, -1.8044],\n",
       "           [ 2.5180,  2.4657,  2.5180,  ...,  2.0823,  2.0648, -1.8044],\n",
       "           [-1.8044, -1.8044, -1.8044,  ...,  2.0823,  2.0648, -1.8044]]]]),\n",
       " tensor([0, 5, 4, 4, 5, 3, 3, 4, 5, 0, 1, 6, 2, 3, 1, 3, 6, 3, 5, 5, 2, 0, 0, 3,\n",
       "         6, 5, 5, 2, 0, 6, 4, 4, 5, 5, 0, 3, 0, 6, 6, 4, 4, 6, 4, 0, 4, 0, 4, 0,\n",
       "         3, 6, 6, 5, 5, 5, 3, 6, 5, 6, 6, 1, 5, 2, 0, 4, 3, 6, 0, 5, 3, 3, 0, 3,\n",
       "         5, 0, 6, 2, 6, 3, 4, 0, 6, 1, 5, 4, 0, 3, 4, 3, 3, 2, 3, 2, 1, 2, 2, 5,\n",
       "         1, 6, 3, 2, 6, 1, 5, 6, 5, 2, 6, 3, 3, 0, 2, 6, 0, 1, 4, 0, 3, 3, 2, 5,\n",
       "         2, 3, 3, 0, 6, 5, 0, 5])]"
      ]
     },
     "execution_count": 133,
     "metadata": {},
     "output_type": "execute_result"
    }
   ],
   "source": [
    "next(iter(train_dl))"
   ]
  },
  {
   "cell_type": "code",
   "execution_count": 134,
   "id": "ec74a8f4595bd9ac",
   "metadata": {
    "ExecuteTime": {
     "end_time": "2025-04-25T12:10:54.554327Z",
     "start_time": "2025-04-25T12:10:54.547336Z"
    }
   },
   "outputs": [],
   "source": [
    "# Move data to device\n",
    "train_dl = DeviceDataLoader(train_dl, device)\n",
    "test_dl = DeviceDataLoader(test_dl, device)"
   ]
  },
  {
   "cell_type": "code",
   "execution_count": 135,
   "id": "365a40ded8a18320",
   "metadata": {
    "ExecuteTime": {
     "end_time": "2025-04-25T12:10:55.792903Z",
     "start_time": "2025-04-25T12:10:55.786782Z"
    }
   },
   "outputs": [],
   "source": [
    "# Accuracy calculation function\n",
    "def accuracy(outputs, labels):\n",
    "    _, preds = torch.max(outputs, dim=1)\n",
    "    return torch.tensor(torch.sum(preds == labels).item() / len(preds))"
   ]
  },
  {
   "cell_type": "code",
   "execution_count": 136,
   "id": "8bc5536260e43c82",
   "metadata": {
    "ExecuteTime": {
     "end_time": "2025-04-25T12:10:56.692298Z",
     "start_time": "2025-04-25T12:10:56.683925Z"
    }
   },
   "outputs": [],
   "source": [
    "# Base model class definition\n",
    "class ImageClassificationBase(nn.Module):\n",
    "    def training_step(self, batch):\n",
    "        images, labels = batch\n",
    "        out = self(images)  # Generate predictions\n",
    "        loss = F.cross_entropy(out, labels)  # Calculate loss\n",
    "        return loss\n",
    "\n",
    "    def validation_step(self, batch):\n",
    "        images, labels = batch\n",
    "        out = self(images)  # Generate predictions\n",
    "        loss = F.cross_entropy(out, labels)  # Calculate loss\n",
    "        acc = accuracy(out, labels)  # Calculate accuracy\n",
    "        return {'val_loss': loss.detach(), 'val_acc': acc}\n",
    "\n",
    "    def validation_epoch_end(self, outputs):\n",
    "        batch_losses = [x['val_loss'] for x in outputs]\n",
    "        epoch_loss = torch.stack(batch_losses).mean()  # Combine losses\n",
    "        batch_accs = [x['val_acc'] for x in outputs]\n",
    "        epoch_acc = torch.stack(batch_accs).mean()  # Combine accuracies\n",
    "        return {'val_loss': epoch_loss.item(), 'val_acc': epoch_acc.item()}\n",
    "\n",
    "    def epoch_end(self, epoch, result, train_loss=None):\n",
    "        if train_loss:\n",
    "            print(\n",
    "                f\"Epoch {epoch}: train_loss: {train_loss:.4f}, val_loss: {result['val_loss']:.4f}, val_acc: {result['val_acc']:.4f}\")\n",
    "        else:\n",
    "            print(f\"Epoch {epoch}: val_loss: {result['val_loss']:.4f}, val_acc: {result['val_acc']:.4f}\")\n"
   ]
  },
  {
   "cell_type": "code",
   "execution_count": 137,
   "id": "97cdf9af0163676f",
   "metadata": {
    "ExecuteTime": {
     "end_time": "2025-04-25T12:10:57.412670Z",
     "start_time": "2025-04-25T12:10:57.406226Z"
    }
   },
   "outputs": [],
   "source": [
    "# ResNet50 model definition - replacing ResNet152 with ResNet50\n",
    "class ResNet152Model(ImageClassificationBase):\n",
    "    def __init__(self, num_classes, pretrained=True):\n",
    "        super().__init__()\n",
    "        # Use a pretrained ResNet50 model\n",
    "        self.network = models.resnet152(pretrained=pretrained)\n",
    "\n",
    "        # Freeze early layers\n",
    "        for param in list(self.network.parameters())[:-30]:  # Freeze all except last 30 parameter groups\n",
    "            param.requires_grad = False\n",
    "\n",
    "        # Replace last layer for our classification task\n",
    "        in_features = self.network.fc.in_features\n",
    "        self.network.fc = nn.Sequential(\n",
    "            nn.Linear(in_features, 512),\n",
    "            nn.ReLU(),\n",
    "            nn.Dropout(0.5),\n",
    "            nn.Linear(512, num_classes)\n",
    "        )\n",
    "\n",
    "    def forward(self, xb):\n",
    "        return self.network(xb)"
   ]
  },
  {
   "cell_type": "code",
   "execution_count": null,
   "id": "0cd528c8",
   "metadata": {},
   "outputs": [],
   "source": []
  },
  {
   "cell_type": "code",
   "execution_count": 138,
   "id": "69d2f760",
   "metadata": {},
   "outputs": [],
   "source": [
    "# ResNet50 model definition - replacing ResNet152 with ResNet50\n",
    "class ResNet50Model(ImageClassificationBase):\n",
    "    def __init__(self, num_classes, pretrained=True):\n",
    "        super().__init__()\n",
    "        # Use a pretrained ResNet50 model\n",
    "        self.network = models.resnet50(pretrained=pretrained)\n",
    "\n",
    "        # Freeze early layers\n",
    "        for param in list(self.network.parameters())[:-30]:  # Freeze all except last 30 parameter groups\n",
    "            param.requires_grad = False\n",
    "\n",
    "        # Replace last layer for our classification task\n",
    "        in_features = self.network.fc.in_features\n",
    "        self.network.fc = nn.Sequential(\n",
    "            nn.Linear(in_features, 512),\n",
    "            nn.ReLU(),\n",
    "            nn.Dropout(0.5),\n",
    "            nn.Linear(512, num_classes)\n",
    "        )\n",
    "\n",
    "    def forward(self, xb):\n",
    "        return self.network(xb)"
   ]
  },
  {
   "cell_type": "code",
   "execution_count": 139,
   "id": "6059da406f84526f",
   "metadata": {
    "ExecuteTime": {
     "end_time": "2025-04-25T12:10:58.023034Z",
     "start_time": "2025-04-25T12:10:58.018269Z"
    }
   },
   "outputs": [],
   "source": [
    "# Evaluation function\n",
    "@torch.no_grad()\n",
    "def evaluate(model, val_loader):\n",
    "    model.eval()\n",
    "    outputs = [model.validation_step(batch) for batch in val_loader]\n",
    "    return model.validation_epoch_end(outputs)"
   ]
  },
  {
   "cell_type": "code",
   "execution_count": 140,
   "id": "8614c609d58f8dd7",
   "metadata": {
    "ExecuteTime": {
     "end_time": "2025-04-25T12:10:58.574938Z",
     "start_time": "2025-04-25T12:10:58.569403Z"
    }
   },
   "outputs": [],
   "source": [
    "# Get learning rate from optimizer\n",
    "def get_lr(optimizer):\n",
    "    for param_group in optimizer.param_groups:\n",
    "        return param_group['lr']"
   ]
  },
  {
   "cell_type": "code",
   "execution_count": 141,
   "id": "2c65764d89f9cac0",
   "metadata": {
    "ExecuteTime": {
     "end_time": "2025-04-25T12:10:59.130219Z",
     "start_time": "2025-04-25T12:10:59.125713Z"
    }
   },
   "outputs": [],
   "source": [
    "# Function to plot training and validation metrics\n",
    "def plot_metrics(history):\n",
    "    train_losses = [x.get('train_loss', 0) for x in history]\n",
    "    val_losses = [x['val_loss'] for x in history]\n",
    "    val_accs = [x['val_acc'] for x in history]\n",
    "\n",
    "    # Create figure with 2 subplots\n",
    "    plt.figure(figsize=(14, 5))\n",
    "\n",
    "    # Plot loss\n",
    "    plt.subplot(1, 2, 1)\n",
    "    plt.plot(train_losses[1:], label='Train Loss')  # Skip the first one as it may not have train loss\n",
    "    plt.plot(val_losses, label='Val Loss')\n",
    "    plt.xlabel('Epoch')\n",
    "    plt.ylabel('Loss')\n",
    "    plt.title('Training and Validation Loss')\n",
    "    plt.legend()\n",
    "    plt.grid(True, linestyle='--', alpha=0.6)\n",
    "\n",
    "    # Plot accuracy\n",
    "    plt.subplot(1, 2, 2)\n",
    "    plt.plot(val_accs, label='Val Accuracy')\n",
    "    plt.xlabel('Epoch')\n",
    "    plt.ylabel('Accuracy')\n",
    "    plt.title('Validation Accuracy')\n",
    "    plt.legend()\n",
    "    plt.grid(True, linestyle='--', alpha=0.6)\n",
    "\n",
    "    plt.tight_layout()\n",
    "    plt.savefig('training_metrics.png', dpi=300, bbox_inches='tight')\n",
    "    plt.show()\n"
   ]
  },
  {
   "cell_type": "code",
   "execution_count": 142,
   "id": "969a4456c4983f74",
   "metadata": {
    "ExecuteTime": {
     "end_time": "2025-04-25T12:10:59.702322Z",
     "start_time": "2025-04-25T12:10:59.695171Z"
    }
   },
   "outputs": [],
   "source": [
    "# Training function with one-cycle learning rate schedule\n",
    "def fit_one_cycle(epochs, max_lr, model, train_loader, val_loader,\n",
    "                  weight_decay=0, grad_clip=None, opt_func=torch.optim.SGD):\n",
    "    torch.cuda.empty_cache()  # Clear GPU memory\n",
    "    history = []\n",
    "\n",
    "    # Set up custom optimizer with weight decay\n",
    "    optimizer = opt_func(model.parameters(), lr=max_lr, weight_decay=weight_decay)\n",
    "\n",
    "    # Set up one-cycle learning rate scheduler\n",
    "    sched = torch.optim.lr_scheduler.OneCycleLR(optimizer, max_lr, epochs=epochs,\n",
    "                                                steps_per_epoch=len(train_loader))\n",
    "\n",
    "    # For tracking learning rates\n",
    "    lrs = []\n",
    "\n",
    "    # Training loop\n",
    "    for epoch in range(epochs):\n",
    "        # Training Phase\n",
    "        model.train()\n",
    "        train_losses = []\n",
    "\n",
    "        # Create progress bar\n",
    "        loop = tqdm(train_loader, desc=f\"Epoch {epoch + 1}/{epochs}\", leave=False)\n",
    "\n",
    "        for batch in loop:\n",
    "            loss = model.training_step(batch)\n",
    "            train_losses.append(loss)\n",
    "            loss.backward()\n",
    "\n",
    "            # Gradient clipping if specified\n",
    "            if grad_clip:\n",
    "                nn.utils.clip_grad_value_(model.parameters(), grad_clip)\n",
    "\n",
    "            optimizer.step()\n",
    "            optimizer.zero_grad()\n",
    "\n",
    "            # Record & update learning rate\n",
    "            lrs.append(get_lr(optimizer))\n",
    "            sched.step()\n",
    "\n",
    "            # Update progress bar\n",
    "            loop.set_postfix(loss=loss.item())\n",
    "\n",
    "        # Validation phase\n",
    "        result = evaluate(model, val_loader)\n",
    "\n",
    "        # Record training loss\n",
    "        result['train_loss'] = torch.stack(train_losses).mean().item()\n",
    "\n",
    "        # Record learning rates for this epoch\n",
    "        result['lrs'] = lrs\n",
    "\n",
    "        # Print epoch results\n",
    "        model.epoch_end(epoch, result, result['train_loss'])\n",
    "\n",
    "        # Save history\n",
    "        history.append(result)\n",
    "\n",
    "        # Save model after each epoch\n",
    "        torch.save(model.state_dict(), 'latest_model.pth')\n",
    "\n",
    "        # Save best model if validation accuracy improves\n",
    "        if epoch == 0 or result['val_acc'] > max([h['val_acc'] for h in history[:-1]]):\n",
    "            torch.save(model.state_dict(), 'best_model.pth')\n",
    "            print(f\"Model saved at epoch {epoch} with val_acc: {result['val_acc']:.4f}\")\n",
    "\n",
    "    return history\n"
   ]
  },
  {
   "cell_type": "code",
   "execution_count": 143,
   "id": "3448d7826d61bee4",
   "metadata": {
    "ExecuteTime": {
     "end_time": "2025-04-25T12:11:00.293146Z",
     "start_time": "2025-04-25T12:11:00.284343Z"
    }
   },
   "outputs": [],
   "source": [
    "# Enhanced test set evaluation function with plotting\n",
    "def evaluate_test_set(model, test_dl, classes):\n",
    "    model.eval()  # Set model to evaluation mode\n",
    "    all_preds = []\n",
    "    all_labels = []\n",
    "\n",
    "    with torch.no_grad():\n",
    "        for batch in tqdm(test_dl, desc=\"Evaluating test set\"):\n",
    "            images, labels = batch\n",
    "            outputs = model(images)\n",
    "            _, preds = torch.max(outputs, dim=1)  # Get the predicted class\n",
    "            all_preds.append(preds.cpu().numpy())\n",
    "            all_labels.append(labels.cpu().numpy())\n",
    "\n",
    "    all_preds = np.concatenate(all_preds)\n",
    "    all_labels = np.concatenate(all_labels)\n",
    "\n",
    "    # Calculate accuracy\n",
    "    acc = accuracy_score(all_labels, all_preds)\n",
    "    print(f'Test Accuracy: {acc * 100:.2f}%')\n",
    "\n",
    "    # Print classification report\n",
    "    print(classification_report(all_labels, all_preds, target_names=classes))\n",
    "\n",
    "    # Generate confusion matrix\n",
    "    cm = confusion_matrix(all_labels, all_preds)\n",
    "    print(\"Confusion Matrix:\")\n",
    "    print(cm)\n",
    "\n",
    "    # Plot confusion matrix\n",
    "    plt.figure(figsize=(10, 8))\n",
    "    sns.heatmap(cm, annot=True, fmt=\"d\", cmap=\"Blues\", xticklabels=classes, yticklabels=classes)\n",
    "    plt.xlabel(\"Predicted\")\n",
    "    plt.ylabel(\"Actual\")\n",
    "    plt.title(\"Confusion Matrix\")\n",
    "    plt.tight_layout()\n",
    "    plt.savefig('confusion_matrix.png', dpi=300, bbox_inches='tight')\n",
    "    plt.show()\n",
    "\n",
    "    return acc, cm"
   ]
  },
  {
   "cell_type": "code",
   "execution_count": 144,
   "id": "f38004550537f50",
   "metadata": {
    "ExecuteTime": {
     "end_time": "2025-04-25T12:11:02.216363Z",
     "start_time": "2025-04-25T12:11:01.062509Z"
    }
   },
   "outputs": [
    {
     "name": "stderr",
     "output_type": "stream",
     "text": [
      "c:\\Users\\anura\\anaconda3\\envs\\NLP\\Lib\\site-packages\\torchvision\\models\\_utils.py:208: UserWarning: The parameter 'pretrained' is deprecated since 0.13 and may be removed in the future, please use 'weights' instead.\n",
      "  warnings.warn(\n",
      "c:\\Users\\anura\\anaconda3\\envs\\NLP\\Lib\\site-packages\\torchvision\\models\\_utils.py:223: UserWarning: Arguments other than a weight enum or `None` for 'weights' are deprecated since 0.13 and may be removed in the future. The current behavior is equivalent to passing `weights=ResNet152_Weights.IMAGENET1K_V1`. You can also use `weights=ResNet152_Weights.DEFAULT` to get the most up-to-date weights.\n",
      "  warnings.warn(msg)\n"
     ]
    }
   ],
   "source": [
    "# Create model with proper number of classes\n",
    "num_classes = len(classes)\n",
    "model = ResNet152Model(num_classes, pretrained=True)\n",
    "model = to_device(model, device)"
   ]
  },
  {
   "cell_type": "code",
   "execution_count": 145,
   "id": "c436d7abc250c08c",
   "metadata": {
    "ExecuteTime": {
     "end_time": "2025-04-25T12:11:11.786798Z",
     "start_time": "2025-04-25T12:11:11.778589Z"
    }
   },
   "outputs": [
    {
     "name": "stdout",
     "output_type": "stream",
     "text": [
      "Total parameters: 59,196,487\n",
      "Trainable parameters: 15,492,615\n",
      "Percentage of trainable parameters: 26.17%\n"
     ]
    }
   ],
   "source": [
    "# Print model summary\n",
    "total_params = sum(p.numel() for p in model.parameters())\n",
    "trainable_params = sum(p.numel() for p in model.parameters() if p.requires_grad)\n",
    "print(f\"Total parameters: {total_params:,}\")\n",
    "print(f\"Trainable parameters: {trainable_params:,}\")\n",
    "print(f\"Percentage of trainable parameters: {trainable_params / total_params * 100:.2f}%\")\n"
   ]
  },
  {
   "cell_type": "code",
   "execution_count": 146,
   "id": "2867f87cc287f989",
   "metadata": {
    "ExecuteTime": {
     "end_time": "2025-04-25T12:11:21.262368Z",
     "start_time": "2025-04-25T12:11:14.839819Z"
    }
   },
   "outputs": [
    {
     "name": "stdout",
     "output_type": "stream",
     "text": [
      "Initial validation metrics: {'val_loss': 1.939327359199524, 'val_acc': 0.23076923191547394}\n"
     ]
    }
   ],
   "source": [
    "# Get initial validation metrics\n",
    "initial_result = evaluate(model, test_dl)\n",
    "print(\"Initial validation metrics:\", initial_result)"
   ]
  },
  {
   "cell_type": "code",
   "execution_count": 147,
   "id": "997a0eaea08f1ae8",
   "metadata": {
    "ExecuteTime": {
     "end_time": "2025-04-25T12:34:33.941038Z",
     "start_time": "2025-04-25T12:15:04.547403Z"
    }
   },
   "outputs": [
    {
     "name": "stderr",
     "output_type": "stream",
     "text": [
      "                                                                    \r"
     ]
    },
    {
     "name": "stdout",
     "output_type": "stream",
     "text": [
      "Epoch 0: train_loss: 1.9342, val_loss: 1.9436, val_acc: 0.2527\n",
      "Model saved at epoch 0 with val_acc: 0.2527\n"
     ]
    },
    {
     "name": "stderr",
     "output_type": "stream",
     "text": [
      "                                                                    \r"
     ]
    },
    {
     "name": "stdout",
     "output_type": "stream",
     "text": [
      "Epoch 1: train_loss: 1.8931, val_loss: 1.9735, val_acc: 0.2747\n",
      "Model saved at epoch 1 with val_acc: 0.2747\n"
     ]
    },
    {
     "name": "stderr",
     "output_type": "stream",
     "text": [
      "                                                                    \r"
     ]
    },
    {
     "name": "stdout",
     "output_type": "stream",
     "text": [
      "Epoch 2: train_loss: 1.8157, val_loss: 1.9920, val_acc: 0.3187\n",
      "Model saved at epoch 2 with val_acc: 0.3187\n"
     ]
    },
    {
     "name": "stderr",
     "output_type": "stream",
     "text": [
      "                                                                    \r"
     ]
    },
    {
     "name": "stdout",
     "output_type": "stream",
     "text": [
      "Epoch 3: train_loss: 1.7267, val_loss: 2.1263, val_acc: 0.3626\n",
      "Model saved at epoch 3 with val_acc: 0.3626\n"
     ]
    },
    {
     "name": "stderr",
     "output_type": "stream",
     "text": [
      "                                                                    \r"
     ]
    },
    {
     "name": "stdout",
     "output_type": "stream",
     "text": [
      "Epoch 4: train_loss: 1.5627, val_loss: 2.4542, val_acc: 0.3626\n"
     ]
    },
    {
     "name": "stderr",
     "output_type": "stream",
     "text": [
      "                                                                    \r"
     ]
    },
    {
     "name": "stdout",
     "output_type": "stream",
     "text": [
      "Epoch 5: train_loss: 1.4459, val_loss: 2.3091, val_acc: 0.3846\n",
      "Model saved at epoch 5 with val_acc: 0.3846\n"
     ]
    },
    {
     "name": "stderr",
     "output_type": "stream",
     "text": [
      "                                                                    \r"
     ]
    },
    {
     "name": "stdout",
     "output_type": "stream",
     "text": [
      "Epoch 6: train_loss: 1.4129, val_loss: 2.7221, val_acc: 0.3626\n"
     ]
    },
    {
     "name": "stderr",
     "output_type": "stream",
     "text": [
      "                                                                    \r"
     ]
    },
    {
     "name": "stdout",
     "output_type": "stream",
     "text": [
      "Epoch 7: train_loss: 1.2852, val_loss: 4.6357, val_acc: 0.3736\n"
     ]
    },
    {
     "name": "stderr",
     "output_type": "stream",
     "text": [
      "                                                                    \r"
     ]
    },
    {
     "name": "stdout",
     "output_type": "stream",
     "text": [
      "Epoch 8: train_loss: 1.1244, val_loss: 3.5687, val_acc: 0.3407\n"
     ]
    },
    {
     "name": "stderr",
     "output_type": "stream",
     "text": [
      "                                                                      \r"
     ]
    },
    {
     "name": "stdout",
     "output_type": "stream",
     "text": [
      "Epoch 9: train_loss: 1.0536, val_loss: 2.3275, val_acc: 0.3077\n"
     ]
    },
    {
     "name": "stderr",
     "output_type": "stream",
     "text": [
      "                                                                      \r"
     ]
    },
    {
     "name": "stdout",
     "output_type": "stream",
     "text": [
      "Epoch 10: train_loss: 1.0287, val_loss: 2.5497, val_acc: 0.3297\n"
     ]
    },
    {
     "name": "stderr",
     "output_type": "stream",
     "text": [
      "                                                                      \r"
     ]
    },
    {
     "name": "stdout",
     "output_type": "stream",
     "text": [
      "Epoch 11: train_loss: 0.9694, val_loss: 2.7762, val_acc: 0.4176\n",
      "Model saved at epoch 11 with val_acc: 0.4176\n"
     ]
    },
    {
     "name": "stderr",
     "output_type": "stream",
     "text": [
      "                                                                      \r"
     ]
    },
    {
     "name": "stdout",
     "output_type": "stream",
     "text": [
      "Epoch 12: train_loss: 0.8678, val_loss: 2.4841, val_acc: 0.3736\n"
     ]
    },
    {
     "name": "stderr",
     "output_type": "stream",
     "text": [
      "                                                                      \r"
     ]
    },
    {
     "name": "stdout",
     "output_type": "stream",
     "text": [
      "Epoch 13: train_loss: 0.7925, val_loss: 2.6490, val_acc: 0.3846\n"
     ]
    },
    {
     "name": "stderr",
     "output_type": "stream",
     "text": [
      "                                                                      \r"
     ]
    },
    {
     "name": "stdout",
     "output_type": "stream",
     "text": [
      "Epoch 14: train_loss: 0.7665, val_loss: 2.8737, val_acc: 0.3846\n"
     ]
    },
    {
     "name": "stderr",
     "output_type": "stream",
     "text": [
      "                                                                      \r"
     ]
    },
    {
     "name": "stdout",
     "output_type": "stream",
     "text": [
      "Epoch 15: train_loss: 0.6475, val_loss: 2.4829, val_acc: 0.4066\n"
     ]
    },
    {
     "name": "stderr",
     "output_type": "stream",
     "text": [
      "                                                                      \r"
     ]
    },
    {
     "name": "stdout",
     "output_type": "stream",
     "text": [
      "Epoch 16: train_loss: 0.5770, val_loss: 2.3993, val_acc: 0.3736\n"
     ]
    },
    {
     "name": "stderr",
     "output_type": "stream",
     "text": [
      "                                                                      \r"
     ]
    },
    {
     "name": "stdout",
     "output_type": "stream",
     "text": [
      "Epoch 17: train_loss: 0.5946, val_loss: 2.3635, val_acc: 0.4066\n"
     ]
    },
    {
     "name": "stderr",
     "output_type": "stream",
     "text": [
      "                                                                      \r"
     ]
    },
    {
     "name": "stdout",
     "output_type": "stream",
     "text": [
      "Epoch 18: train_loss: 0.5638, val_loss: 2.2496, val_acc: 0.3516\n"
     ]
    },
    {
     "name": "stderr",
     "output_type": "stream",
     "text": [
      "                                                                      \r"
     ]
    },
    {
     "name": "stdout",
     "output_type": "stream",
     "text": [
      "Epoch 19: train_loss: 0.4326, val_loss: 2.2985, val_acc: 0.3846\n"
     ]
    },
    {
     "name": "stderr",
     "output_type": "stream",
     "text": [
      "                                                                      \r"
     ]
    },
    {
     "name": "stdout",
     "output_type": "stream",
     "text": [
      "Epoch 20: train_loss: 0.4471, val_loss: 2.3253, val_acc: 0.3626\n"
     ]
    },
    {
     "name": "stderr",
     "output_type": "stream",
     "text": [
      "                                                                      \r"
     ]
    },
    {
     "name": "stdout",
     "output_type": "stream",
     "text": [
      "Epoch 21: train_loss: 0.4088, val_loss: 2.3242, val_acc: 0.3626\n"
     ]
    },
    {
     "name": "stderr",
     "output_type": "stream",
     "text": [
      "                                                                      \r"
     ]
    },
    {
     "name": "stdout",
     "output_type": "stream",
     "text": [
      "Epoch 22: train_loss: 0.3139, val_loss: 2.3173, val_acc: 0.3516\n"
     ]
    },
    {
     "name": "stderr",
     "output_type": "stream",
     "text": [
      "                                                                      \r"
     ]
    },
    {
     "name": "stdout",
     "output_type": "stream",
     "text": [
      "Epoch 23: train_loss: 0.4239, val_loss: 2.3493, val_acc: 0.3407\n"
     ]
    },
    {
     "name": "stderr",
     "output_type": "stream",
     "text": [
      "                                                                      \r"
     ]
    },
    {
     "name": "stdout",
     "output_type": "stream",
     "text": [
      "Epoch 24: train_loss: 0.3305, val_loss: 2.3878, val_acc: 0.3846\n"
     ]
    },
    {
     "name": "stderr",
     "output_type": "stream",
     "text": [
      "                                                                      \r"
     ]
    },
    {
     "name": "stdout",
     "output_type": "stream",
     "text": [
      "Epoch 25: train_loss: 0.3243, val_loss: 2.4350, val_acc: 0.3736\n"
     ]
    },
    {
     "name": "stderr",
     "output_type": "stream",
     "text": [
      "                                                                      \r"
     ]
    },
    {
     "name": "stdout",
     "output_type": "stream",
     "text": [
      "Epoch 26: train_loss: 0.3421, val_loss: 2.4811, val_acc: 0.3736\n"
     ]
    },
    {
     "name": "stderr",
     "output_type": "stream",
     "text": [
      "                                                                      \r"
     ]
    },
    {
     "name": "stdout",
     "output_type": "stream",
     "text": [
      "Epoch 27: train_loss: 0.3026, val_loss: 2.5173, val_acc: 0.3736\n"
     ]
    },
    {
     "name": "stderr",
     "output_type": "stream",
     "text": [
      "                                                                      \r"
     ]
    },
    {
     "name": "stdout",
     "output_type": "stream",
     "text": [
      "Epoch 28: train_loss: 0.3121, val_loss: 2.5513, val_acc: 0.3736\n"
     ]
    },
    {
     "name": "stderr",
     "output_type": "stream",
     "text": [
      "                                                                      \r"
     ]
    },
    {
     "name": "stdout",
     "output_type": "stream",
     "text": [
      "Epoch 29: train_loss: 0.2776, val_loss: 2.5599, val_acc: 0.3846\n"
     ]
    }
   ],
   "source": [
    "# Train the model\n",
    "history = fit_one_cycle(\n",
    "    epochs=30,  # Reduced from 100 to 50 for faster training\n",
    "    max_lr=0.001,\n",
    "    model=model,\n",
    "    train_loader=train_dl,\n",
    "    val_loader=test_dl,\n",
    "    weight_decay=0.01,\n",
    "    grad_clip=0.1,\n",
    "    opt_func=torch.optim.Adam\n",
    ")"
   ]
  },
  {
   "cell_type": "code",
   "execution_count": 148,
   "id": "b130517f7b545c7d",
   "metadata": {
    "ExecuteTime": {
     "end_time": "2025-04-25T13:33:04.060288Z",
     "start_time": "2025-04-25T13:33:03.163836Z"
    }
   },
   "outputs": [
    {
     "data": {
      "image/png": "[encoded data removed]",
      "text/plain": [
       "<Figure size 1400x500 with 2 Axes>"
      ]
     },
     "metadata": {},
     "output_type": "display_data"
    }
   ],
   "source": [
    "# Plot training metrics\n",
    "plot_metrics(history)"
   ]
  },
  {
   "cell_type": "code",
   "execution_count": 149,
   "id": "60ee1417c5e6e297",
   "metadata": {
    "ExecuteTime": {
     "end_time": "2025-04-25T13:33:09.963582Z",
     "start_time": "2025-04-25T13:33:09.562749Z"
    }
   },
   "outputs": [],
   "source": [
    "# Save the trained model\n",
    "torch.save(model.state_dict(), 'final_model.pth')"
   ]
  },
  {
   "cell_type": "code",
   "execution_count": 150,
   "id": "8bdbfc54c3a03570",
   "metadata": {
    "ExecuteTime": {
     "end_time": "2025-04-25T13:33:10.810542Z",
     "start_time": "2025-04-25T13:33:10.317446Z"
    }
   },
   "outputs": [],
   "source": [
    "# Load the best model for evaluation\n",
    "model.load_state_dict(torch.load('best_model.pth'))\n",
    "model = to_device(model, device)"
   ]
  },
  {
   "cell_type": "code",
   "execution_count": 151,
   "id": "d89d73a159643607",
   "metadata": {
    "ExecuteTime": {
     "end_time": "2025-04-25T13:33:19.919160Z",
     "start_time": "2025-04-25T13:33:11.671451Z"
    }
   },
   "outputs": [
    {
     "name": "stderr",
     "output_type": "stream",
     "text": [
      "Evaluating test set: 100%|██████████| 1/1 [00:05<00:00,  5.92s/it]\n"
     ]
    },
    {
     "name": "stdout",
     "output_type": "stream",
     "text": [
      "Test Accuracy: 41.76%\n",
      "              precision    recall  f1-score   support\n",
      "\n",
      "       Angry       0.27      0.55      0.36        11\n",
      "     Disgust       0.50      0.11      0.18         9\n",
      "        Fear       0.33      0.14      0.20         7\n",
      "   Happiness       0.73      0.55      0.63        20\n",
      "     Neutral       0.20      0.36      0.26        11\n",
      "         Sad       0.67      0.14      0.24        14\n",
      "   Surprised       0.50      0.68      0.58        19\n",
      "\n",
      "    accuracy                           0.42        91\n",
      "   macro avg       0.46      0.36      0.35        91\n",
      "weighted avg       0.50      0.42      0.40        91\n",
      "\n",
      "Confusion Matrix:\n",
      "[[ 6  0  0  2  1  0  2]\n",
      " [ 4  1  0  1  1  0  2]\n",
      " [ 2  0  1  0  2  0  2]\n",
      " [ 1  0  0 11  5  0  3]\n",
      " [ 2  1  0  0  4  1  3]\n",
      " [ 6  0  0  1  4  2  1]\n",
      " [ 1  0  2  0  3  0 13]]\n"
     ]
    },
    {
     "data": {
      "image/png": "[encoded data removed]",
      "text/plain": [
       "<Figure size 1000x800 with 2 Axes>"
      ]
     },
     "metadata": {},
     "output_type": "display_data"
    }
   ],
   "source": [
    "# Evaluate the model on the test dataset\n",
    "test_acc, conf_matrix = evaluate_test_set(model, test_dl, classes)"
   ]
  },
  {
   "cell_type": "code",
   "execution_count": 152,
   "id": "87dfb56761fbb6b",
   "metadata": {
    "ExecuteTime": {
     "end_time": "2025-04-25T13:33:57.711565Z",
     "start_time": "2025-04-25T13:33:57.701951Z"
    }
   },
   "outputs": [],
   "source": [
    "# Function to visualize sample predictions\n",
    "def visualize_predictions(model, test_dl, classes, num_samples=5):\n",
    "    # Get a batch of images\n",
    "    dataiter = iter(test_dl)\n",
    "    images, labels = next(dataiter)\n",
    "\n",
    "    # Get predictions\n",
    "    model.eval()\n",
    "    with torch.no_grad():\n",
    "        outputs = model(images)\n",
    "        _, preds = torch.max(outputs, 1)\n",
    "\n",
    "    # Convert tensors to CPU\n",
    "    images = images.cpu()\n",
    "    labels = labels.cpu()\n",
    "    preds = preds.cpu()\n",
    "\n",
    "    # Function to denormalize images for display\n",
    "    def denormalize(image, mean=stats[0], std=stats[1]):\n",
    "        img_denorm = image.clone()\n",
    "        for i in range(3):\n",
    "            img_denorm[i] = img_denorm[i] * std[i] + mean[i]\n",
    "        return torch.clamp(img_denorm, 0, 1)\n",
    "\n",
    "    # Plot the images with predictions\n",
    "    plt.figure(figsize=(15, 3))\n",
    "    for i in range(min(num_samples, len(images))):\n",
    "        # Denormalize image\n",
    "        img = denormalize(images[i])\n",
    "        # Convert to numpy for matplotlib\n",
    "        img = img.permute(1, 2, 0).numpy()\n",
    "\n",
    "        # Plot with colored text based on correctness\n",
    "        plt.subplot(1, num_samples, i + 1)\n",
    "        plt.imshow(img)\n",
    "        plt.axis('off')\n",
    "\n",
    "        # Color text based on correct/incorrect prediction\n",
    "        true_label = classes[labels[i]]\n",
    "        pred_label = classes[preds[i]]\n",
    "        color = 'green' if labels[i] == preds[i] else 'red'\n",
    "\n",
    "        plt.title(f\"True: {true_label}\\nPred: {pred_label}\", color=color)\n",
    "\n",
    "    plt.tight_layout()\n",
    "    plt.savefig('sample_predictions.png', dpi=300, bbox_inches='tight')\n",
    "    plt.show()\n"
   ]
  },
  {
   "cell_type": "code",
   "execution_count": 153,
   "id": "e67ff2f7458a3958",
   "metadata": {
    "ExecuteTime": {
     "end_time": "2025-04-25T13:34:05.936333Z",
     "start_time": "2025-04-25T13:33:59.420591Z"
    }
   },
   "outputs": [
    {
     "data": {
      "image/png": "[encoded data removed]",
      "text/plain": [
       "<Figure size 1500x300 with 5 Axes>"
      ]
     },
     "metadata": {},
     "output_type": "display_data"
    }
   ],
   "source": [
    "# Visualize some predictions\n",
    "visualize_predictions(model, test_dl, classes, num_samples=5)"
   ]
  },
  {
   "cell_type": "code",
   "execution_count": null,
   "id": "6bbbdd24e266fd8e",
   "metadata": {
    "ExecuteTime": {
     "end_time": "2025-04-19T09:57:00.290961Z",
     "start_time": "2025-04-19T09:57:00.288016Z"
    }
   },
   "outputs": [],
   "source": []
  },
  {
   "cell_type": "markdown",
   "id": "d0d6ed3355f80408",
   "metadata": {},
   "source": [
    "# Siemese Network"
   ]
  },
  {
   "cell_type": "code",
   "execution_count": 154,
   "id": "e26d8b524eab445b",
   "metadata": {},
   "outputs": [
    {
     "name": "stderr",
     "output_type": "stream",
     "text": [
      "c:\\Users\\anura\\anaconda3\\envs\\NLP\\Lib\\site-packages\\torchvision\\models\\_utils.py:208: UserWarning: The parameter 'pretrained' is deprecated since 0.13 and may be removed in the future, please use 'weights' instead.\n",
      "  warnings.warn(\n",
      "c:\\Users\\anura\\anaconda3\\envs\\NLP\\Lib\\site-packages\\torchvision\\models\\_utils.py:223: UserWarning: Arguments other than a weight enum or `None` for 'weights' are deprecated since 0.13 and may be removed in the future. The current behavior is equivalent to passing `weights=ResNet50_Weights.IMAGENET1K_V1`. You can also use `weights=ResNet50_Weights.DEFAULT` to get the most up-to-date weights.\n",
      "  warnings.warn(msg)\n"
     ]
    }
   ],
   "source": [
    "# Create model with proper number of classes\n",
    "num_classes = len(classes)\n",
    "model = ResNet50Model(num_classes, pretrained=True)\n",
    "model = to_device(model, device)"
   ]
  },
  {
   "cell_type": "code",
   "execution_count": 155,
   "id": "cd8833de",
   "metadata": {},
   "outputs": [
    {
     "name": "stdout",
     "output_type": "stream",
     "text": [
      "Total parameters: 24,560,711\n",
      "Trainable parameters: 15,492,615\n",
      "Percentage of trainable parameters: 63.08%\n"
     ]
    }
   ],
   "source": [
    "# Print model summary\n",
    "total_params = sum(p.numel() for p in model.parameters())\n",
    "trainable_params = sum(p.numel() for p in model.parameters() if p.requires_grad)\n",
    "print(f\"Total parameters: {total_params:,}\")\n",
    "print(f\"Trainable parameters: {trainable_params:,}\")\n",
    "print(f\"Percentage of trainable parameters: {trainable_params / total_params * 100:.2f}%\")\n"
   ]
  },
  {
   "cell_type": "code",
   "execution_count": 156,
   "id": "06703d90",
   "metadata": {},
   "outputs": [
    {
     "name": "stdout",
     "output_type": "stream",
     "text": [
      "Initial validation metrics: {'val_loss': 1.9729677438735962, 'val_acc': 0.10989011079072952}\n"
     ]
    }
   ],
   "source": [
    "# Get initial validation metrics\n",
    "initial_result = evaluate(model, test_dl)\n",
    "print(\"Initial validation metrics:\", initial_result)"
   ]
  },
  {
   "cell_type": "code",
   "execution_count": 157,
   "id": "f638be6a",
   "metadata": {},
   "outputs": [
    {
     "name": "stderr",
     "output_type": "stream",
     "text": [
      "                                                                    \r"
     ]
    },
    {
     "name": "stdout",
     "output_type": "stream",
     "text": [
      "Epoch 0: train_loss: 1.9765, val_loss: 1.8875, val_acc: 0.2967\n",
      "Model saved at epoch 0 with val_acc: 0.2967\n"
     ]
    },
    {
     "name": "stderr",
     "output_type": "stream",
     "text": [
      "                                                                    \r"
     ]
    },
    {
     "name": "stdout",
     "output_type": "stream",
     "text": [
      "Epoch 1: train_loss: 1.8865, val_loss: 1.9248, val_acc: 0.2637\n"
     ]
    },
    {
     "name": "stderr",
     "output_type": "stream",
     "text": [
      "                                                                    \r"
     ]
    },
    {
     "name": "stdout",
     "output_type": "stream",
     "text": [
      "Epoch 2: train_loss: 1.8378, val_loss: 2.0624, val_acc: 0.2857\n"
     ]
    },
    {
     "name": "stderr",
     "output_type": "stream",
     "text": [
      "                                                                    \r"
     ]
    },
    {
     "name": "stdout",
     "output_type": "stream",
     "text": [
      "Epoch 3: train_loss: 1.7594, val_loss: 2.1102, val_acc: 0.3187\n",
      "Model saved at epoch 3 with val_acc: 0.3187\n"
     ]
    },
    {
     "name": "stderr",
     "output_type": "stream",
     "text": [
      "                                                                    \r"
     ]
    },
    {
     "name": "stdout",
     "output_type": "stream",
     "text": [
      "Epoch 4: train_loss: 1.6388, val_loss: 2.3845, val_acc: 0.3077\n"
     ]
    },
    {
     "name": "stderr",
     "output_type": "stream",
     "text": [
      "                                                                    \r"
     ]
    },
    {
     "name": "stdout",
     "output_type": "stream",
     "text": [
      "Epoch 5: train_loss: 1.5383, val_loss: 2.8762, val_acc: 0.3407\n",
      "Model saved at epoch 5 with val_acc: 0.3407\n"
     ]
    },
    {
     "name": "stderr",
     "output_type": "stream",
     "text": [
      "                                                                    \r"
     ]
    },
    {
     "name": "stdout",
     "output_type": "stream",
     "text": [
      "Epoch 6: train_loss: 1.2802, val_loss: 2.4276, val_acc: 0.3407\n"
     ]
    },
    {
     "name": "stderr",
     "output_type": "stream",
     "text": [
      "                                                                    \r"
     ]
    },
    {
     "name": "stdout",
     "output_type": "stream",
     "text": [
      "Epoch 7: train_loss: 1.1578, val_loss: 2.3617, val_acc: 0.3626\n",
      "Model saved at epoch 7 with val_acc: 0.3626\n"
     ]
    },
    {
     "name": "stderr",
     "output_type": "stream",
     "text": [
      "                                                                    \r"
     ]
    },
    {
     "name": "stdout",
     "output_type": "stream",
     "text": [
      "Epoch 8: train_loss: 1.2130, val_loss: 3.0705, val_acc: 0.4176\n",
      "Model saved at epoch 8 with val_acc: 0.4176\n"
     ]
    },
    {
     "name": "stderr",
     "output_type": "stream",
     "text": [
      "                                                                     \r"
     ]
    },
    {
     "name": "stdout",
     "output_type": "stream",
     "text": [
      "Epoch 9: train_loss: 1.1295, val_loss: 2.4330, val_acc: 0.4066\n"
     ]
    },
    {
     "name": "stderr",
     "output_type": "stream",
     "text": [
      "                                                                      \r"
     ]
    },
    {
     "name": "stdout",
     "output_type": "stream",
     "text": [
      "Epoch 10: train_loss: 0.9356, val_loss: 3.1295, val_acc: 0.3956\n"
     ]
    },
    {
     "name": "stderr",
     "output_type": "stream",
     "text": [
      "                                                                      \r"
     ]
    },
    {
     "name": "stdout",
     "output_type": "stream",
     "text": [
      "Epoch 11: train_loss: 0.9265, val_loss: 3.0695, val_acc: 0.3516\n"
     ]
    },
    {
     "name": "stderr",
     "output_type": "stream",
     "text": [
      "                                                                      \r"
     ]
    },
    {
     "name": "stdout",
     "output_type": "stream",
     "text": [
      "Epoch 12: train_loss: 0.7912, val_loss: 2.8424, val_acc: 0.3846\n"
     ]
    },
    {
     "name": "stderr",
     "output_type": "stream",
     "text": [
      "                                                                      \r"
     ]
    },
    {
     "name": "stdout",
     "output_type": "stream",
     "text": [
      "Epoch 13: train_loss: 0.7658, val_loss: 2.5639, val_acc: 0.4396\n",
      "Model saved at epoch 13 with val_acc: 0.4396\n"
     ]
    },
    {
     "name": "stderr",
     "output_type": "stream",
     "text": [
      "                                                                      \r"
     ]
    },
    {
     "name": "stdout",
     "output_type": "stream",
     "text": [
      "Epoch 14: train_loss: 0.6717, val_loss: 2.5973, val_acc: 0.4176\n"
     ]
    },
    {
     "name": "stderr",
     "output_type": "stream",
     "text": [
      "                                                                      \r"
     ]
    },
    {
     "name": "stdout",
     "output_type": "stream",
     "text": [
      "Epoch 15: train_loss: 0.5914, val_loss: 2.4763, val_acc: 0.4615\n",
      "Model saved at epoch 15 with val_acc: 0.4615\n"
     ]
    },
    {
     "name": "stderr",
     "output_type": "stream",
     "text": [
      "                                                                      \r"
     ]
    },
    {
     "name": "stdout",
     "output_type": "stream",
     "text": [
      "Epoch 16: train_loss: 0.6036, val_loss: 2.4247, val_acc: 0.4505\n"
     ]
    },
    {
     "name": "stderr",
     "output_type": "stream",
     "text": [
      "                                                                      \r"
     ]
    },
    {
     "name": "stdout",
     "output_type": "stream",
     "text": [
      "Epoch 17: train_loss: 0.4783, val_loss: 2.5162, val_acc: 0.4286\n"
     ]
    },
    {
     "name": "stderr",
     "output_type": "stream",
     "text": [
      "                                                                      \r"
     ]
    },
    {
     "name": "stdout",
     "output_type": "stream",
     "text": [
      "Epoch 18: train_loss: 0.4354, val_loss: 2.6538, val_acc: 0.3736\n"
     ]
    },
    {
     "name": "stderr",
     "output_type": "stream",
     "text": [
      "                                                                      \r"
     ]
    },
    {
     "name": "stdout",
     "output_type": "stream",
     "text": [
      "Epoch 19: train_loss: 0.3928, val_loss: 2.7524, val_acc: 0.3846\n"
     ]
    },
    {
     "name": "stderr",
     "output_type": "stream",
     "text": [
      "                                                                      \r"
     ]
    },
    {
     "name": "stdout",
     "output_type": "stream",
     "text": [
      "Epoch 20: train_loss: 0.4342, val_loss: 2.6071, val_acc: 0.4066\n"
     ]
    },
    {
     "name": "stderr",
     "output_type": "stream",
     "text": [
      "                                                                      \r"
     ]
    },
    {
     "name": "stdout",
     "output_type": "stream",
     "text": [
      "Epoch 21: train_loss: 0.3381, val_loss: 2.4588, val_acc: 0.4176\n"
     ]
    },
    {
     "name": "stderr",
     "output_type": "stream",
     "text": [
      "                                                                      \r"
     ]
    },
    {
     "name": "stdout",
     "output_type": "stream",
     "text": [
      "Epoch 22: train_loss: 0.2873, val_loss: 2.3990, val_acc: 0.3846\n"
     ]
    },
    {
     "name": "stderr",
     "output_type": "stream",
     "text": [
      "                                                                      \r"
     ]
    },
    {
     "name": "stdout",
     "output_type": "stream",
     "text": [
      "Epoch 23: train_loss: 0.4357, val_loss: 2.3676, val_acc: 0.3956\n"
     ]
    },
    {
     "name": "stderr",
     "output_type": "stream",
     "text": [
      "                                                                      \r"
     ]
    },
    {
     "name": "stdout",
     "output_type": "stream",
     "text": [
      "Epoch 24: train_loss: 0.3448, val_loss: 2.3681, val_acc: 0.4066\n"
     ]
    },
    {
     "name": "stderr",
     "output_type": "stream",
     "text": [
      "                                                                      \r"
     ]
    },
    {
     "name": "stdout",
     "output_type": "stream",
     "text": [
      "Epoch 25: train_loss: 0.2474, val_loss: 2.3878, val_acc: 0.4066\n"
     ]
    },
    {
     "name": "stderr",
     "output_type": "stream",
     "text": [
      "                                                                      \r"
     ]
    },
    {
     "name": "stdout",
     "output_type": "stream",
     "text": [
      "Epoch 26: train_loss: 0.2983, val_loss: 2.4287, val_acc: 0.4176\n"
     ]
    },
    {
     "name": "stderr",
     "output_type": "stream",
     "text": [
      "                                                                      \r"
     ]
    },
    {
     "name": "stdout",
     "output_type": "stream",
     "text": [
      "Epoch 27: train_loss: 0.3080, val_loss: 2.4675, val_acc: 0.4176\n"
     ]
    },
    {
     "name": "stderr",
     "output_type": "stream",
     "text": [
      "                                                                      \r"
     ]
    },
    {
     "name": "stdout",
     "output_type": "stream",
     "text": [
      "Epoch 28: train_loss: 0.3289, val_loss: 2.4941, val_acc: 0.4176\n"
     ]
    },
    {
     "name": "stderr",
     "output_type": "stream",
     "text": [
      "                                                                      \r"
     ]
    },
    {
     "name": "stdout",
     "output_type": "stream",
     "text": [
      "Epoch 29: train_loss: 0.2496, val_loss: 2.5223, val_acc: 0.4505\n"
     ]
    }
   ],
   "source": [
    "# Train the model\n",
    "history = fit_one_cycle(\n",
    "    epochs=30,  # Reduced from 100 to 50 for faster training\n",
    "    max_lr=0.001,\n",
    "    model=model,\n",
    "    train_loader=train_dl,\n",
    "    val_loader=test_dl,\n",
    "    weight_decay=0.01,\n",
    "    grad_clip=0.1,\n",
    "    opt_func=torch.optim.Adam\n",
    ")"
   ]
  },
  {
   "cell_type": "code",
   "execution_count": 158,
   "id": "bb9dcf90",
   "metadata": {},
   "outputs": [],
   "source": [
    "# Save the trained model\n",
    "torch.save(model.state_dict(), 'final_model.pth')"
   ]
  },
  {
   "cell_type": "code",
   "execution_count": 159,
   "id": "36cf8407",
   "metadata": {},
   "outputs": [],
   "source": [
    "# Load the best model for evaluation\n",
    "model.load_state_dict(torch.load('best_model.pth'))\n",
    "model = to_device(model, device)"
   ]
  },
  {
   "cell_type": "code",
   "execution_count": 160,
   "id": "1ca272ee",
   "metadata": {},
   "outputs": [
    {
     "name": "stderr",
     "output_type": "stream",
     "text": [
      "Evaluating test set: 100%|██████████| 1/1 [00:05<00:00,  5.80s/it]\n"
     ]
    },
    {
     "name": "stdout",
     "output_type": "stream",
     "text": [
      "Test Accuracy: 46.15%\n",
      "              precision    recall  f1-score   support\n",
      "\n",
      "       Angry       0.60      0.27      0.38        11\n",
      "     Disgust       0.33      0.33      0.33         9\n",
      "        Fear       0.00      0.00      0.00         7\n",
      "   Happiness       0.53      0.45      0.49        20\n",
      "     Neutral       0.40      0.55      0.46        11\n",
      "         Sad       0.50      0.36      0.42        14\n",
      "   Surprised       0.47      0.84      0.60        19\n",
      "\n",
      "    accuracy                           0.46        91\n",
      "   macro avg       0.40      0.40      0.38        91\n",
      "weighted avg       0.45      0.46      0.43        91\n",
      "\n",
      "Confusion Matrix:\n",
      "[[ 3  1  0  3  2  0  2]\n",
      " [ 0  3  0  3  0  2  1]\n",
      " [ 0  0  0  0  3  1  3]\n",
      " [ 1  1  1  9  0  0  8]\n",
      " [ 0  1  0  0  6  1  3]\n",
      " [ 1  3  0  1  3  5  1]\n",
      " [ 0  0  0  1  1  1 16]]\n"
     ]
    },
    {
     "data": {
      "image/png": "[encoded data removed]",
      "text/plain": [
       "<Figure size 1000x800 with 2 Axes>"
      ]
     },
     "metadata": {},
     "output_type": "display_data"
    }
   ],
   "source": [
    "# Evaluate the model on the test dataset\n",
    "test_acc, conf_matrix = evaluate_test_set(model, test_dl, classes)"
   ]
  },
  {
   "cell_type": "code",
   "execution_count": 163,
   "id": "3a0fdfc2",
   "metadata": {},
   "outputs": [],
   "source": [
    "# Function to visualize sample predictions\n",
    "def visualize_predictions(model, test_dl, classes, num_samples=5):\n",
    "    # Get a batch of images\n",
    "    dataiter = iter(test_dl)\n",
    "    images, labels = next(dataiter)\n",
    "\n",
    "    # Get predictions\n",
    "    model.eval()\n",
    "    with torch.no_grad():\n",
    "        outputs = model(images)\n",
    "        _, preds = torch.max(outputs, 1)\n",
    "\n",
    "    # Convert tensors to CPU\n",
    "    images = images.cpu()\n",
    "    labels = labels.cpu()\n",
    "    preds = preds.cpu()\n",
    "\n",
    "    # Function to denormalize images for display\n",
    "    def denormalize(image, mean=stats[0], std=stats[1]):\n",
    "        img_denorm = image.clone()\n",
    "        for i in range(3):\n",
    "            img_denorm[i] = img_denorm[i] * std[i] + mean[i]\n",
    "        return torch.clamp(img_denorm, 0, 1)\n",
    "\n",
    "    # Plot the images with predictions\n",
    "    plt.figure(figsize=(15, 3))\n",
    "    for i in range(min(num_samples, len(images))):\n",
    "        # Denormalize image\n",
    "        img = denormalize(images[i])\n",
    "        # Convert to numpy for matplotlib\n",
    "        img = img.permute(1, 2, 0).numpy()\n",
    "\n",
    "        # Plot with colored text based on correctness\n",
    "        plt.subplot(1, num_samples, i + 1)\n",
    "        plt.imshow(img)\n",
    "        plt.axis('off')\n",
    "\n",
    "        # Color text based on correct/incorrect prediction\n",
    "        true_label = classes[labels[i]]\n",
    "        pred_label = classes[preds[i]]\n",
    "        color = 'green' if labels[i] == preds[i] else 'red'\n",
    "\n",
    "        plt.title(f\"True: {true_label}\\nPred: {pred_label}\", color=color)\n",
    "\n",
    "    plt.tight_layout()\n",
    "    plt.savefig('sample_predictions.png', dpi=300, bbox_inches='tight')\n",
    "    plt.show()\n"
   ]
  },
  {
   "cell_type": "code",
   "execution_count": 164,
   "id": "ff666176",
   "metadata": {},
   "outputs": [
    {
     "data": {
      "image/png": "[encoded data removed]",
      "text/plain": [
       "<Figure size 1500x300 with 5 Axes>"
      ]
     },
     "metadata": {},
     "output_type": "display_data"
    }
   ],
   "source": [
    "# Visualize some predictions\n",
    "visualize_predictions(model, test_dl, classes, num_samples=5)"
   ]
  },
  {
   "cell_type": "code",
   "execution_count": null,
   "id": "e9f5c4f5",
   "metadata": {},
   "outputs": [],
   "source": []
  }
 ],
 "metadata": {
  "kernelspec": {
   "display_name": "NLP",
   "language": "python",
   "name": "python3"
  },
  "language_info": {
   "codemirror_mode": {
    "name": "ipython",
    "version": 3
   },
   "file_extension": ".py",
   "mimetype": "text/x-python",
   "name": "python",
   "nbconvert_exporter": "python",
   "pygments_lexer": "ipython3",
   "version": "3.12.9"
  }
 },
 "nbformat": 4,
 "nbformat_minor": 5
}
