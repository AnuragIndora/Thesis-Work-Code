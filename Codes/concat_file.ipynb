{
 "cells": [
  {
   "cell_type": "code",
   "execution_count": null,
   "id": "3ebaa932",
   "metadata": {},
   "outputs": [],
   "source": [
    "import pandas as pd \n",
    "import numpy as np "
   ]
  },
  {
   "cell_type": "code",
   "execution_count": null,
   "id": "66dd28c4",
   "metadata": {},
   "outputs": [],
   "source": [
    "df_train = pd.read_csv(\"tif_df_train.csv\")\n",
    "df_test = pd.read_csv(\"tif_df_test.csv\")\n",
    "df_org = pd.read_excel(\"output_data.xlsx\")"
   ]
  },
  {
   "cell_type": "code",
   "execution_count": null,
   "id": "8c09d1d4",
   "metadata": {},
   "outputs": [],
   "source": [
    "df_train.head()"
   ]
  },
  {
   "cell_type": "code",
   "execution_count": null,
   "id": "68231f23",
   "metadata": {},
   "outputs": [],
   "source": [
    "df_test.head()"
   ]
  },
  {
   "cell_type": "code",
   "execution_count": null,
   "id": "7d3820d8",
   "metadata": {},
   "outputs": [],
   "source": [
    "df_org.head()"
   ]
  },
  {
   "cell_type": "code",
   "execution_count": null,
   "id": "872d0391",
   "metadata": {},
   "outputs": [],
   "source": [
    "df_org[df_org['File'] == 'A11F12-JTPWCFB-6350']"
   ]
  },
  {
   "cell_type": "code",
   "execution_count": null,
   "id": "4e9138e9",
   "metadata": {},
   "outputs": [],
   "source": []
  },
  {
   "cell_type": "code",
   "execution_count": null,
   "id": "81fef024",
   "metadata": {},
   "outputs": [],
   "source": [
    "df_train = pd.DataFrame({\n",
    "    'Image_Name': ['A11F12-JTPWCFB-6350AN.jpg', 'A11F12-JTPWCFB-6360AN.jpg'],\n",
    "    'Other_Column': [1, 2]\n",
    "})"
   ]
  },
  {
   "cell_type": "code",
   "execution_count": null,
   "id": "7b6a14d5",
   "metadata": {},
   "outputs": [],
   "source": [
    "df_test = pd.DataFrame({\n",
    "    'Image_Name': ['A11F12-JTPWCFB-6350AN.jpg', 'A11F12-JTPWCFB-6370AN.jpg'],\n",
    "    'Other_Column': [3, 4]\n",
    "})\n"
   ]
  },
  {
   "cell_type": "code",
   "execution_count": null,
   "id": "5eab2ac3",
   "metadata": {},
   "outputs": [],
   "source": [
    "df_org = pd.DataFrame({\n",
    "    'File': ['A11F12-JTPWCFB-6350', 'A11F12-JTPWCFB-6360', 'A11F12-JTPWCFB-6370'],\n",
    "    'Other_Org_Column': ['Info1', 'Info2', 'Info3']\n",
    "})\n"
   ]
  },
  {
   "cell_type": "code",
   "execution_count": null,
   "id": "8c572f8a",
   "metadata": {},
   "outputs": [],
   "source": [
    "import pandas as pd\n",
    "\n",
    "def match_and_append(df_train, df_test, df_org):\n",
    "    # Step 1: Extract the base part of the 'Image_Name' by removing suffix (everything after the last '-')\n",
    "    df_train['Image_Name_base'] = df_train['Image_Name'].str.extract(r'([A-Za-z0-9-]+)-[^-]+\\.jpg')[0]\n",
    "    df_test['Image_Name_base'] = df_test['Image_Name'].str.extract(r'([A-Za-z0-9-]+)-[^-]+\\.jpg')[0]\n",
    "    \n",
    "    # Step 2: Merge df_train with df_org based on the base filename\n",
    "    df_train = df_train.merge(df_org, left_on='Image_Name_base', right_on='File', how='left')\n",
    "    \n",
    "    # Step 3: Merge df_test with df_org based on the base filename\n",
    "    df_test = df_test.merge(df_org, left_on='Image_Name_base', right_on='File', how='left')\n",
    "\n",
    "    # Step 4: Drop the 'Image_Name_base' column if it's no longer needed\n",
    "    df_train.drop(columns=['Image_Name_base'], inplace=True)\n",
    "    df_test.drop(columns=['Image_Name_base'], inplace=True)\n",
    "    \n",
    "    return df_train, df_test\n",
    "\n",
    "# Example usage:\n",
    "# Assuming you already have df_train, df_test, and df_org loaded\n",
    "df_train, df_test = match_and_append(df_train, df_test, df_org)"
   ]
  },
  {
   "cell_type": "code",
   "execution_count": null,
   "id": "9a45db18",
   "metadata": {},
   "outputs": [],
   "source": [
    "df_train"
   ]
  },
  {
   "cell_type": "code",
   "execution_count": null,
   "id": "fd93fa45",
   "metadata": {},
   "outputs": [],
   "source": [
    "df_test"
   ]
  },
  {
   "cell_type": "code",
   "execution_count": null,
   "id": "a8d35f36",
   "metadata": {},
   "outputs": [],
   "source": []
  }
 ],
 "metadata": {
  "kernelspec": {
   "display_name": "NLP",
   "language": "python",
   "name": "python3"
  },
  "language_info": {
   "codemirror_mode": {
    "name": "ipython",
    "version": 3
   },
   "file_extension": ".py",
   "mimetype": "text/x-python",
   "name": "python",
   "nbconvert_exporter": "python",
   "pygments_lexer": "ipython3",
   "version": "3.12.9"
  }
 },
 "nbformat": 4,
 "nbformat_minor": 5
}
